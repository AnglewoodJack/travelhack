{
 "cells": [
  {
   "cell_type": "code",
   "execution_count": 1,
   "id": "hourly-biology",
   "metadata": {
    "ExecuteTime": {
     "end_time": "2021-03-27T12:40:47.647686Z",
     "start_time": "2021-03-27T12:40:47.249036Z"
    }
   },
   "outputs": [],
   "source": [
    "import pandas as pd\n",
    "import numpy as np"
   ]
  },
  {
   "cell_type": "code",
   "execution_count": 2,
   "id": "reverse-absence",
   "metadata": {
    "ExecuteTime": {
     "end_time": "2021-03-27T12:40:48.628825Z",
     "start_time": "2021-03-27T12:40:47.650220Z"
    }
   },
   "outputs": [],
   "source": [
    "df = pd.read_csv(\"data/data-full.csv\", index_col=0)"
   ]
  },
  {
   "cell_type": "code",
   "execution_count": 3,
   "id": "residential-tampa",
   "metadata": {
    "ExecuteTime": {
     "end_time": "2021-03-27T12:40:48.663731Z",
     "start_time": "2021-03-27T12:40:48.630980Z"
    }
   },
   "outputs": [
    {
     "data": {
      "text/html": [
       "<div>\n",
       "<style scoped>\n",
       "    .dataframe tbody tr th:only-of-type {\n",
       "        vertical-align: middle;\n",
       "    }\n",
       "\n",
       "    .dataframe tbody tr th {\n",
       "        vertical-align: top;\n",
       "    }\n",
       "\n",
       "    .dataframe thead th {\n",
       "        text-align: right;\n",
       "    }\n",
       "</style>\n",
       "<table border=\"1\" class=\"dataframe\">\n",
       "  <thead>\n",
       "    <tr style=\"text-align: right;\">\n",
       "      <th></th>\n",
       "      <th>Пол</th>\n",
       "      <th>День рождения</th>\n",
       "      <th>Возраст клиента</th>\n",
       "      <th>Заявка №</th>\n",
       "      <th>Дата бронирования</th>\n",
       "      <th>Дата начала тура</th>\n",
       "      <th>Год</th>\n",
       "      <th>Ночей</th>\n",
       "      <th>Вид тура</th>\n",
       "      <th>Тип заявки</th>\n",
       "      <th>...</th>\n",
       "      <th>Младенцы</th>\n",
       "      <th>Звездность</th>\n",
       "      <th>Состав группы (Заявка) (Заявка)</th>\n",
       "      <th>Сумма в $</th>\n",
       "      <th>Наименование тура</th>\n",
       "      <th>ИД клиента</th>\n",
       "      <th>Глубина продаж</th>\n",
       "      <th>Тип питания</th>\n",
       "      <th>Город Отеля</th>\n",
       "      <th>Город отправления</th>\n",
       "    </tr>\n",
       "  </thead>\n",
       "  <tbody>\n",
       "    <tr>\n",
       "      <th>0</th>\n",
       "      <td>мужской</td>\n",
       "      <td>2018-08-28 00:00:00</td>\n",
       "      <td>2.0</td>\n",
       "      <td>4803671</td>\n",
       "      <td>2021-02-07 20:44:00</td>\n",
       "      <td>2021-05-04 00:00:00</td>\n",
       "      <td>2021</td>\n",
       "      <td>12</td>\n",
       "      <td>Пляжный отдых</td>\n",
       "      <td>Пакет</td>\n",
       "      <td>...</td>\n",
       "      <td>0</td>\n",
       "      <td>4*</td>\n",
       "      <td>Семья</td>\n",
       "      <td>1718.64</td>\n",
       "      <td>Turkey Antalya LED</td>\n",
       "      <td>4197428</td>\n",
       "      <td>85.136111</td>\n",
       "      <td>All Inclusive</td>\n",
       "      <td>NaN</td>\n",
       "      <td>Санкт-Петербург</td>\n",
       "    </tr>\n",
       "    <tr>\n",
       "      <th>1</th>\n",
       "      <td>мужской</td>\n",
       "      <td>1991-04-25 00:00:00</td>\n",
       "      <td>29.0</td>\n",
       "      <td>4803671</td>\n",
       "      <td>2021-02-07 20:44:00</td>\n",
       "      <td>2021-05-04 00:00:00</td>\n",
       "      <td>2021</td>\n",
       "      <td>12</td>\n",
       "      <td>Пляжный отдых</td>\n",
       "      <td>Пакет</td>\n",
       "      <td>...</td>\n",
       "      <td>0</td>\n",
       "      <td>4*</td>\n",
       "      <td>Семья</td>\n",
       "      <td>1718.64</td>\n",
       "      <td>Turkey Antalya LED</td>\n",
       "      <td>4197429</td>\n",
       "      <td>85.136111</td>\n",
       "      <td>All Inclusive</td>\n",
       "      <td>NaN</td>\n",
       "      <td>Санкт-Петербург</td>\n",
       "    </tr>\n",
       "  </tbody>\n",
       "</table>\n",
       "<p>2 rows × 25 columns</p>\n",
       "</div>"
      ],
      "text/plain": [
       "       Пол        День рождения  Возраст клиента  Заявка №   \\\n",
       "0  мужской  2018-08-28 00:00:00              2.0    4803671   \n",
       "1  мужской  1991-04-25 00:00:00             29.0    4803671   \n",
       "\n",
       "     Дата бронирования     Дата начала тура   Год  Ночей       Вид тура  \\\n",
       "0  2021-02-07 20:44:00  2021-05-04 00:00:00  2021     12  Пляжный отдых   \n",
       "1  2021-02-07 20:44:00  2021-05-04 00:00:00  2021     12  Пляжный отдых   \n",
       "\n",
       "  Тип заявки  ... Младенцы Звездность  Состав группы (Заявка) (Заявка)  \\\n",
       "0      Пакет  ...        0         4*                            Семья   \n",
       "1      Пакет  ...        0         4*                            Семья   \n",
       "\n",
       "   Сумма в $   Наименование тура  ИД клиента Глубина продаж    Тип питания  \\\n",
       "0    1718.64  Turkey Antalya LED     4197428      85.136111  All Inclusive   \n",
       "1    1718.64  Turkey Antalya LED     4197429      85.136111  All Inclusive   \n",
       "\n",
       "   Город Отеля Город отправления  \n",
       "0          NaN   Санкт-Петербург  \n",
       "1          NaN   Санкт-Петербург  \n",
       "\n",
       "[2 rows x 25 columns]"
      ]
     },
     "execution_count": 3,
     "metadata": {},
     "output_type": "execute_result"
    }
   ],
   "source": [
    "df.head(2)"
   ]
  },
  {
   "cell_type": "code",
   "execution_count": 4,
   "id": "permanent-german",
   "metadata": {
    "ExecuteTime": {
     "end_time": "2021-03-27T12:40:48.668864Z",
     "start_time": "2021-03-27T12:40:48.665527Z"
    }
   },
   "outputs": [
    {
     "data": {
      "text/plain": [
       "Index(['Пол', 'День рождения', 'Возраст клиента', 'Заявка № ',\n",
       "       'Дата бронирования', 'Дата начала тура', 'Год', 'Ночей', 'Вид тура',\n",
       "       'Тип заявки', 'Страна тура', 'Регион отеля', 'Туристов',\n",
       "       'Туристы, взрослые', 'Туристы, дети', 'Младенцы', 'Звездность',\n",
       "       'Состав группы (Заявка) (Заявка)', 'Сумма в $', 'Наименование тура',\n",
       "       'ИД клиента', 'Глубина продаж', 'Тип питания', 'Город Отеля',\n",
       "       'Город отправления'],\n",
       "      dtype='object')"
      ]
     },
     "execution_count": 4,
     "metadata": {},
     "output_type": "execute_result"
    }
   ],
   "source": [
    "df.columns"
   ]
  },
  {
   "cell_type": "markdown",
   "id": "abroad-chancellor",
   "metadata": {},
   "source": [
    "# 1. Обогащение данных"
   ]
  },
  {
   "cell_type": "code",
   "execution_count": 5,
   "id": "technical-jersey",
   "metadata": {
    "ExecuteTime": {
     "end_time": "2021-03-27T12:40:48.679517Z",
     "start_time": "2021-03-27T12:40:48.670791Z"
    }
   },
   "outputs": [
    {
     "data": {
      "text/html": [
       "<div>\n",
       "<style scoped>\n",
       "    .dataframe tbody tr th:only-of-type {\n",
       "        vertical-align: middle;\n",
       "    }\n",
       "\n",
       "    .dataframe tbody tr th {\n",
       "        vertical-align: top;\n",
       "    }\n",
       "\n",
       "    .dataframe thead th {\n",
       "        text-align: right;\n",
       "    }\n",
       "</style>\n",
       "<table border=\"1\" class=\"dataframe\">\n",
       "  <thead>\n",
       "    <tr style=\"text-align: right;\">\n",
       "      <th></th>\n",
       "      <th>Страна</th>\n",
       "      <th>Индекс Биг-Мака</th>\n",
       "    </tr>\n",
       "  </thead>\n",
       "  <tbody>\n",
       "    <tr>\n",
       "      <th>0</th>\n",
       "      <td>Турция</td>\n",
       "      <td>145.0</td>\n",
       "    </tr>\n",
       "    <tr>\n",
       "      <th>1</th>\n",
       "      <td>Россия</td>\n",
       "      <td>135.0</td>\n",
       "    </tr>\n",
       "    <tr>\n",
       "      <th>2</th>\n",
       "      <td>ОАЭ</td>\n",
       "      <td>286.0</td>\n",
       "    </tr>\n",
       "  </tbody>\n",
       "</table>\n",
       "</div>"
      ],
      "text/plain": [
       "   Страна  Индекс Биг-Мака\n",
       "0  Турция            145.0\n",
       "1  Россия            135.0\n",
       "2     ОАЭ            286.0"
      ]
     },
     "execution_count": 5,
     "metadata": {},
     "output_type": "execute_result"
    }
   ],
   "source": [
    "big_mac_index = pd.read_csv(\"data/big_mac_index.csv\", header=None)\n",
    "big_mac_index.columns = [\"Страна\", \"Индекс Биг-Мака\"]\n",
    "big_mac_index.head(3)"
   ]
  },
  {
   "cell_type": "code",
   "execution_count": 6,
   "id": "graduate-norway",
   "metadata": {
    "ExecuteTime": {
     "end_time": "2021-03-27T12:40:48.689724Z",
     "start_time": "2021-03-27T12:40:48.681201Z"
    }
   },
   "outputs": [
    {
     "data": {
      "text/html": [
       "<div>\n",
       "<style scoped>\n",
       "    .dataframe tbody tr th:only-of-type {\n",
       "        vertical-align: middle;\n",
       "    }\n",
       "\n",
       "    .dataframe tbody tr th {\n",
       "        vertical-align: top;\n",
       "    }\n",
       "\n",
       "    .dataframe thead th {\n",
       "        text-align: right;\n",
       "    }\n",
       "</style>\n",
       "<table border=\"1\" class=\"dataframe\">\n",
       "  <thead>\n",
       "    <tr style=\"text-align: right;\">\n",
       "      <th></th>\n",
       "      <th>departure_city</th>\n",
       "      <th>Средняя зарплата</th>\n",
       "    </tr>\n",
       "  </thead>\n",
       "  <tbody>\n",
       "    <tr>\n",
       "      <th>0</th>\n",
       "      <td>Красноярск</td>\n",
       "      <td>62846</td>\n",
       "    </tr>\n",
       "    <tr>\n",
       "      <th>1</th>\n",
       "      <td>Тюмень</td>\n",
       "      <td>93716</td>\n",
       "    </tr>\n",
       "    <tr>\n",
       "      <th>2</th>\n",
       "      <td>Калининград</td>\n",
       "      <td>43650</td>\n",
       "    </tr>\n",
       "  </tbody>\n",
       "</table>\n",
       "</div>"
      ],
      "text/plain": [
       "  departure_city  Средняя зарплата\n",
       "0     Красноярск             62846\n",
       "1         Тюмень             93716\n",
       "2    Калининград             43650"
      ]
     },
     "execution_count": 6,
     "metadata": {},
     "output_type": "execute_result"
    }
   ],
   "source": [
    "salary_by_city = pd.read_csv(\"data/zp_by_city.csv\", index_col=0)\n",
    "salary_by_city.columns = [\"departure_city\", \"Средняя зарплата\"]\n",
    "salary_by_city.head(3)"
   ]
  },
  {
   "cell_type": "code",
   "execution_count": 7,
   "id": "important-disclosure",
   "metadata": {
    "ExecuteTime": {
     "end_time": "2021-03-27T12:40:49.128510Z",
     "start_time": "2021-03-27T12:40:48.694100Z"
    }
   },
   "outputs": [],
   "source": [
    "df = pd.merge(df, big_mac_index, left_on=\"Страна тура\", right_on=\"Страна\", how=\"outer\")\n",
    "df = pd.merge(\n",
    "    df,\n",
    "    salary_by_city,\n",
    "    left_on=\"Город отправления\",\n",
    "    right_on=\"departure_city\",\n",
    "    how=\"outer\",\n",
    ")"
   ]
  },
  {
   "cell_type": "markdown",
   "id": "adjustable-wichita",
   "metadata": {},
   "source": [
    "# 1. Предобработка"
   ]
  },
  {
   "cell_type": "code",
   "execution_count": 8,
   "id": "floating-reputation",
   "metadata": {
    "ExecuteTime": {
     "end_time": "2021-03-27T12:40:49.768125Z",
     "start_time": "2021-03-27T12:40:49.130815Z"
    }
   },
   "outputs": [],
   "source": [
    "from sklearn.preprocessing import LabelEncoder\n",
    "from tqdm.notebook import tqdm\n",
    "\n",
    "features_categorical = [\n",
    "    \"Пол\",\n",
    "    \"Вид тура\",\n",
    "    \"Тип заявки\",\n",
    "    \"Страна тура\",\n",
    "    \"Регион отеля\",\n",
    "    \"Состав группы (Заявка) (Заявка)\",\n",
    "    \"Тип питания\",\n",
    "    \"Город отправления\",\n",
    "    \"Город Отеля\",\n",
    "]\n",
    "\n",
    "features_real = [\n",
    "    \"Возраст клиента\",\n",
    "    \"Ночей\",\n",
    "    \"Туристов\",\n",
    "    \"Туристы, взрослые\",\n",
    "    \"Туристы, дети\",\n",
    "    \"Младенцы\",\n",
    "    \"Сумма в $\",\n",
    "    \"Глубина продаж\",\n",
    "    \"Звездность\",\n",
    "    \"Индекс Биг-Мака\",\n",
    "    \"Средняя зарплата\",\n",
    "]"
   ]
  },
  {
   "cell_type": "code",
   "execution_count": 9,
   "id": "central-record",
   "metadata": {
    "ExecuteTime": {
     "end_time": "2021-03-27T12:40:49.795975Z",
     "start_time": "2021-03-27T12:40:49.769907Z"
    }
   },
   "outputs": [],
   "source": [
    "df_prep = df.copy()"
   ]
  },
  {
   "cell_type": "code",
   "execution_count": 10,
   "id": "configured-kentucky",
   "metadata": {
    "ExecuteTime": {
     "end_time": "2021-03-27T12:40:50.192672Z",
     "start_time": "2021-03-27T12:40:49.798014Z"
    }
   },
   "outputs": [
    {
     "data": {
      "application/vnd.jupyter.widget-view+json": {
       "model_id": "e7f01f730a0943a4a6b7aa6f85bcba96",
       "version_major": 2,
       "version_minor": 0
      },
      "text/plain": [
       "  0%|          | 0/9 [00:00<?, ?it/s]"
      ]
     },
     "metadata": {},
     "output_type": "display_data"
    }
   ],
   "source": [
    "features_categorical_mappers = {}\n",
    "\n",
    "\n",
    "for col in tqdm(features_categorical):\n",
    "    label_encoder = LabelEncoder()\n",
    "    label_encoder.fit(df[col])\n",
    "    features_categorical_mappers[col] = label_encoder\n",
    "    df_prep[col] = label_encoder.transform(df[col])"
   ]
  },
  {
   "cell_type": "code",
   "execution_count": 11,
   "id": "alternative-snowboard",
   "metadata": {
    "ExecuteTime": {
     "end_time": "2021-03-27T12:40:50.214147Z",
     "start_time": "2021-03-27T12:40:50.194531Z"
    }
   },
   "outputs": [],
   "source": [
    "stars_mapping = {\n",
    "    \"4*\": 4,\n",
    "    \"5*\": 5,\n",
    "    \"3*\": 3,\n",
    "    \"3*-4*\": 3.5,\n",
    "    \"HV1\": 5,\n",
    "    \"2*\": 2,\n",
    "    \"0\": 0,\n",
    "    \"3*+\": 3.5,\n",
    "    \"-\": None,\n",
    "    \"apt\": 3,\n",
    "    \"nan\": None,\n",
    "    \"HV\": 5,\n",
    "    \"4*+\": 4.5,\n",
    "    \"Без звёзд\": 0,\n",
    "    \"1*\": 1,\n",
    "    \"2*super\": 3,\n",
    "    \"2*+\": 2,\n",
    "    \"HV2\": 4,\n",
    "    \"5* Deluxe\": 5,\n",
    "    \"Std Apt\": 3,\n",
    "    \"BOUTIQUE\": 5,\n",
    "    \"Guest House\": 3,\n",
    "    \"5*+\": 5,\n",
    "    \"2*-3*\": 2.5,\n",
    "    \"3*super\": 4,\n",
    "    \"S-CLASS\": 3.5,\n",
    "    \"cat B\": 3,\n",
    "    \"SC\": 3.5,\n",
    "    \"4*-5*\": 4.5,\n",
    "    \"cat A\": 4,\n",
    "}\n",
    "df_prep[\"Звездность\"] = df_prep[\"Звездность\"].map(stars_mapping)"
   ]
  },
  {
   "cell_type": "code",
   "execution_count": 12,
   "id": "hollywood-soccer",
   "metadata": {
    "ExecuteTime": {
     "end_time": "2021-03-27T12:40:50.354117Z",
     "start_time": "2021-03-27T12:40:50.215754Z"
    }
   },
   "outputs": [],
   "source": [
    "df_prep[features_real] = df_prep[features_real].fillna(df_prep[features_real].mean())"
   ]
  },
  {
   "cell_type": "markdown",
   "id": "beautiful-matthew",
   "metadata": {},
   "source": [
    "# 3. train/test split"
   ]
  },
  {
   "cell_type": "code",
   "execution_count": 13,
   "id": "homeless-begin",
   "metadata": {
    "ExecuteTime": {
     "end_time": "2021-03-27T12:40:50.654788Z",
     "start_time": "2021-03-27T12:40:50.356375Z"
    }
   },
   "outputs": [
    {
     "data": {
      "text/plain": [
       "((193276, 20), (16333, 20), (209609, 20))"
      ]
     },
     "execution_count": 13,
     "metadata": {},
     "output_type": "execute_result"
    }
   ],
   "source": [
    "df_prep[\"Дата бронирования\"] = pd.to_datetime(df_prep[\"Дата бронирования\"])\n",
    "\n",
    "df_train = df_prep.sort_values(\"Дата бронирования\").drop_duplicates(\"ИД клиента\")\n",
    "df_test = df_prep[~df_prep.index.isin(df_train.index)]\n",
    "\n",
    "all_features = list(set(features_categorical + features_real))\n",
    "\n",
    "df_train = df_train[all_features]\n",
    "df_test = df_test[all_features]\n",
    "df_full = df_prep[all_features]\n",
    "\n",
    "df_train.shape, df_test.shape, df_full.shape"
   ]
  }
 ],
 "metadata": {
  "kernelspec": {
   "display_name": "Python 3",
   "language": "python",
   "name": "python3"
  },
  "language_info": {
   "codemirror_mode": {
    "name": "ipython",
    "version": 3
   },
   "file_extension": ".py",
   "mimetype": "text/x-python",
   "name": "python",
   "nbconvert_exporter": "python",
   "pygments_lexer": "ipython3",
   "version": "3.9.1"
  }
 },
 "nbformat": 4,
 "nbformat_minor": 5
}

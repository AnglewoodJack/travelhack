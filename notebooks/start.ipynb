{
 "cells": [
  {
   "cell_type": "code",
   "execution_count": 1,
   "id": "collectible-active",
   "metadata": {
    "ExecuteTime": {
     "end_time": "2021-03-26T09:11:56.326240Z",
     "start_time": "2021-03-26T09:11:56.187724Z"
    }
   },
   "outputs": [
    {
     "name": "stdout",
     "output_type": "stream",
     "text": [
      "dataset.xlsx\r\n"
     ]
    }
   ],
   "source": [
    "!ls data"
   ]
  },
  {
   "cell_type": "code",
   "execution_count": 2,
   "id": "visible-raise",
   "metadata": {
    "ExecuteTime": {
     "end_time": "2021-03-26T09:11:57.106878Z",
     "start_time": "2021-03-26T09:11:56.330451Z"
    }
   },
   "outputs": [],
   "source": [
    "import pandas as pd\n",
    "\n",
    "df = pd.read_excel(\"data/dataset.xlsx\")"
   ]
  },
  {
   "cell_type": "code",
   "execution_count": 3,
   "id": "sound-generator",
   "metadata": {
    "ExecuteTime": {
     "end_time": "2021-03-26T09:11:57.140657Z",
     "start_time": "2021-03-26T09:11:57.109151Z"
    }
   },
   "outputs": [
    {
     "data": {
      "text/html": [
       "<div>\n",
       "<style scoped>\n",
       "    .dataframe tbody tr th:only-of-type {\n",
       "        vertical-align: middle;\n",
       "    }\n",
       "\n",
       "    .dataframe tbody tr th {\n",
       "        vertical-align: top;\n",
       "    }\n",
       "\n",
       "    .dataframe thead th {\n",
       "        text-align: right;\n",
       "    }\n",
       "</style>\n",
       "<table border=\"1\" class=\"dataframe\">\n",
       "  <thead>\n",
       "    <tr style=\"text-align: right;\">\n",
       "      <th></th>\n",
       "      <th>Пол (Клиент) (Контакт)</th>\n",
       "      <th>День рождения (Клиент) (Контакт)</th>\n",
       "      <th>Возраст клиента (корректный) (Клиент) (Контакт)</th>\n",
       "      <th>Заявка № (Заявка) (Заявка)</th>\n",
       "      <th>Дата бронирования (Заявка) (Заявка)</th>\n",
       "      <th>Дата начала тура (Заявка) (Заявка)</th>\n",
       "      <th>Год</th>\n",
       "      <th>Ночей (Заявка) (Заявка)</th>\n",
       "      <th>Вид тура (Заявка) (Заявка)</th>\n",
       "      <th>Тип заявки (Заявка) (Заявка)</th>\n",
       "      <th>...</th>\n",
       "      <th>Младенцы (Заявка) (Заявка)</th>\n",
       "      <th>Звездность (Заявка) (Заявка)</th>\n",
       "      <th>Состав группы (Заявка) (Заявка)</th>\n",
       "      <th>Сумма в $ (Заявка) (Заявка)</th>\n",
       "      <th>Наименование тура (Заявка) (Заявка)</th>\n",
       "      <th>ИД клиента (Клиент) (Контакт)</th>\n",
       "      <th>Глубина продаж (Заявка) (Заявка)</th>\n",
       "      <th>Тип питания (Заявка) (Заявка)</th>\n",
       "      <th>Город Отеля (Заявка) (Заявка)</th>\n",
       "      <th>Город отправления (Заявка) (Заявка)</th>\n",
       "    </tr>\n",
       "  </thead>\n",
       "  <tbody>\n",
       "    <tr>\n",
       "      <th>0</th>\n",
       "      <td>мужской</td>\n",
       "      <td>2018-08-28</td>\n",
       "      <td>2</td>\n",
       "      <td>4803671</td>\n",
       "      <td>2021-02-07 20:44:00</td>\n",
       "      <td>2021-05-04</td>\n",
       "      <td>2021</td>\n",
       "      <td>12</td>\n",
       "      <td>Пляжный отдых</td>\n",
       "      <td>Пакет</td>\n",
       "      <td>...</td>\n",
       "      <td>0</td>\n",
       "      <td>4*</td>\n",
       "      <td>Семья</td>\n",
       "      <td>1718.64</td>\n",
       "      <td>Turkey Antalya LED</td>\n",
       "      <td>4197428</td>\n",
       "      <td>85.136111</td>\n",
       "      <td>All Inclusive</td>\n",
       "      <td>NaN</td>\n",
       "      <td>Санкт-Петербург</td>\n",
       "    </tr>\n",
       "    <tr>\n",
       "      <th>1</th>\n",
       "      <td>мужской</td>\n",
       "      <td>1991-04-25</td>\n",
       "      <td>29</td>\n",
       "      <td>4803671</td>\n",
       "      <td>2021-02-07 20:44:00</td>\n",
       "      <td>2021-05-04</td>\n",
       "      <td>2021</td>\n",
       "      <td>12</td>\n",
       "      <td>Пляжный отдых</td>\n",
       "      <td>Пакет</td>\n",
       "      <td>...</td>\n",
       "      <td>0</td>\n",
       "      <td>4*</td>\n",
       "      <td>Семья</td>\n",
       "      <td>1718.64</td>\n",
       "      <td>Turkey Antalya LED</td>\n",
       "      <td>4197429</td>\n",
       "      <td>85.136111</td>\n",
       "      <td>All Inclusive</td>\n",
       "      <td>NaN</td>\n",
       "      <td>Санкт-Петербург</td>\n",
       "    </tr>\n",
       "    <tr>\n",
       "      <th>2</th>\n",
       "      <td>мужской</td>\n",
       "      <td>1980-11-05</td>\n",
       "      <td>40</td>\n",
       "      <td>4803915</td>\n",
       "      <td>2021-02-08 09:03:00</td>\n",
       "      <td>2021-03-04</td>\n",
       "      <td>2021</td>\n",
       "      <td>6</td>\n",
       "      <td>Пляжный отдых</td>\n",
       "      <td>Пакет</td>\n",
       "      <td>...</td>\n",
       "      <td>0</td>\n",
       "      <td>5*</td>\n",
       "      <td>Семья</td>\n",
       "      <td>948.45</td>\n",
       "      <td>Turkey Antalya MOW</td>\n",
       "      <td>4197517</td>\n",
       "      <td>23.622917</td>\n",
       "      <td>AIP</td>\n",
       "      <td>Боазкент</td>\n",
       "      <td>Москва</td>\n",
       "    </tr>\n",
       "    <tr>\n",
       "      <th>3</th>\n",
       "      <td>мужской</td>\n",
       "      <td>2013-02-27</td>\n",
       "      <td>8</td>\n",
       "      <td>4806034</td>\n",
       "      <td>2021-02-08 19:46:00</td>\n",
       "      <td>2021-10-09</td>\n",
       "      <td>2021</td>\n",
       "      <td>11</td>\n",
       "      <td>Пляжный отдых</td>\n",
       "      <td>Пакет</td>\n",
       "      <td>...</td>\n",
       "      <td>0</td>\n",
       "      <td>5*</td>\n",
       "      <td>Семья</td>\n",
       "      <td>2128.15</td>\n",
       "      <td>Turkey Antalya MOW</td>\n",
       "      <td>4197718</td>\n",
       "      <td>242.176389</td>\n",
       "      <td>UAI</td>\n",
       "      <td>Текирова</td>\n",
       "      <td>Москва</td>\n",
       "    </tr>\n",
       "    <tr>\n",
       "      <th>4</th>\n",
       "      <td>мужской</td>\n",
       "      <td>1968-10-06</td>\n",
       "      <td>52</td>\n",
       "      <td>4806034</td>\n",
       "      <td>2021-02-08 19:46:00</td>\n",
       "      <td>2021-10-09</td>\n",
       "      <td>2021</td>\n",
       "      <td>11</td>\n",
       "      <td>Пляжный отдых</td>\n",
       "      <td>Пакет</td>\n",
       "      <td>...</td>\n",
       "      <td>0</td>\n",
       "      <td>5*</td>\n",
       "      <td>Семья</td>\n",
       "      <td>2128.15</td>\n",
       "      <td>Turkey Antalya MOW</td>\n",
       "      <td>4197719</td>\n",
       "      <td>242.176389</td>\n",
       "      <td>UAI</td>\n",
       "      <td>Текирова</td>\n",
       "      <td>Москва</td>\n",
       "    </tr>\n",
       "  </tbody>\n",
       "</table>\n",
       "<p>5 rows × 25 columns</p>\n",
       "</div>"
      ],
      "text/plain": [
       "  Пол (Клиент) (Контакт) День рождения (Клиент) (Контакт)  \\\n",
       "0                мужской                       2018-08-28   \n",
       "1                мужской                       1991-04-25   \n",
       "2                мужской                       1980-11-05   \n",
       "3                мужской                       2013-02-27   \n",
       "4                мужской                       1968-10-06   \n",
       "\n",
       "   Возраст клиента (корректный) (Клиент) (Контакт)  \\\n",
       "0                                                2   \n",
       "1                                               29   \n",
       "2                                               40   \n",
       "3                                                8   \n",
       "4                                               52   \n",
       "\n",
       "   Заявка № (Заявка) (Заявка) Дата бронирования (Заявка) (Заявка)  \\\n",
       "0                     4803671                 2021-02-07 20:44:00   \n",
       "1                     4803671                 2021-02-07 20:44:00   \n",
       "2                     4803915                 2021-02-08 09:03:00   \n",
       "3                     4806034                 2021-02-08 19:46:00   \n",
       "4                     4806034                 2021-02-08 19:46:00   \n",
       "\n",
       "  Дата начала тура (Заявка) (Заявка)   Год  Ночей (Заявка) (Заявка)  \\\n",
       "0                         2021-05-04  2021                       12   \n",
       "1                         2021-05-04  2021                       12   \n",
       "2                         2021-03-04  2021                        6   \n",
       "3                         2021-10-09  2021                       11   \n",
       "4                         2021-10-09  2021                       11   \n",
       "\n",
       "  Вид тура (Заявка) (Заявка) Тип заявки (Заявка) (Заявка)  ...  \\\n",
       "0              Пляжный отдых                        Пакет  ...   \n",
       "1              Пляжный отдых                        Пакет  ...   \n",
       "2              Пляжный отдых                        Пакет  ...   \n",
       "3              Пляжный отдых                        Пакет  ...   \n",
       "4              Пляжный отдых                        Пакет  ...   \n",
       "\n",
       "  Младенцы (Заявка) (Заявка) Звездность (Заявка) (Заявка)  \\\n",
       "0                          0                           4*   \n",
       "1                          0                           4*   \n",
       "2                          0                           5*   \n",
       "3                          0                           5*   \n",
       "4                          0                           5*   \n",
       "\n",
       "   Состав группы (Заявка) (Заявка)  Сумма в $ (Заявка) (Заявка)  \\\n",
       "0                            Семья                      1718.64   \n",
       "1                            Семья                      1718.64   \n",
       "2                            Семья                       948.45   \n",
       "3                            Семья                      2128.15   \n",
       "4                            Семья                      2128.15   \n",
       "\n",
       "   Наименование тура (Заявка) (Заявка)  ИД клиента (Клиент) (Контакт)  \\\n",
       "0                   Turkey Antalya LED                        4197428   \n",
       "1                   Turkey Antalya LED                        4197429   \n",
       "2                   Turkey Antalya MOW                        4197517   \n",
       "3                   Turkey Antalya MOW                        4197718   \n",
       "4                   Turkey Antalya MOW                        4197719   \n",
       "\n",
       "  Глубина продаж (Заявка) (Заявка) Тип питания (Заявка) (Заявка)  \\\n",
       "0                        85.136111                 All Inclusive   \n",
       "1                        85.136111                 All Inclusive   \n",
       "2                        23.622917                           AIP   \n",
       "3                       242.176389                           UAI   \n",
       "4                       242.176389                           UAI   \n",
       "\n",
       "   Город Отеля (Заявка) (Заявка) Город отправления (Заявка) (Заявка)  \n",
       "0                            NaN                     Санкт-Петербург  \n",
       "1                            NaN                     Санкт-Петербург  \n",
       "2                       Боазкент                              Москва  \n",
       "3                       Текирова                              Москва  \n",
       "4                       Текирова                              Москва  \n",
       "\n",
       "[5 rows x 25 columns]"
      ]
     },
     "execution_count": 3,
     "metadata": {},
     "output_type": "execute_result"
    }
   ],
   "source": [
    "df.head()"
   ]
  },
  {
   "cell_type": "code",
   "execution_count": 4,
   "id": "accessory-finger",
   "metadata": {
    "ExecuteTime": {
     "end_time": "2021-03-26T09:11:57.147024Z",
     "start_time": "2021-03-26T09:11:57.142811Z"
    }
   },
   "outputs": [
    {
     "data": {
      "text/plain": [
       "(100, 25)"
      ]
     },
     "execution_count": 4,
     "metadata": {},
     "output_type": "execute_result"
    }
   ],
   "source": [
    "df.shape"
   ]
  },
  {
   "cell_type": "code",
   "execution_count": 5,
   "id": "arctic-memorial",
   "metadata": {
    "ExecuteTime": {
     "end_time": "2021-03-26T09:11:57.154513Z",
     "start_time": "2021-03-26T09:11:57.149079Z"
    }
   },
   "outputs": [
    {
     "data": {
      "text/plain": [
       "Пол (Клиент) (Контакт)                                     object\n",
       "День рождения (Клиент) (Контакт)                   datetime64[ns]\n",
       "Возраст клиента (корректный) (Клиент) (Контакт)             int64\n",
       "Заявка № (Заявка) (Заявка)                                  int64\n",
       "Дата бронирования (Заявка) (Заявка)                datetime64[ns]\n",
       "Дата начала тура (Заявка) (Заявка)                 datetime64[ns]\n",
       "Год                                                         int64\n",
       "Ночей (Заявка) (Заявка)                                     int64\n",
       "Вид тура (Заявка) (Заявка)                                 object\n",
       "Тип заявки (Заявка) (Заявка)                               object\n",
       "Страна тура (Заявка) (Заявка)                              object\n",
       "Регион отеля (Заявка) (Заявка)                             object\n",
       "Туристов (Заявка) (Заявка)                                  int64\n",
       "Туристы, взрослые (Заявка) (Заявка)                         int64\n",
       "Туристы, дети (Заявка) (Заявка)                             int64\n",
       "Младенцы (Заявка) (Заявка)                                  int64\n",
       "Звездность (Заявка) (Заявка)                               object\n",
       "Состав группы (Заявка) (Заявка)                            object\n",
       "Сумма в $ (Заявка) (Заявка)                               float64\n",
       "Наименование тура (Заявка) (Заявка)                        object\n",
       "ИД клиента (Клиент) (Контакт)                               int64\n",
       "Глубина продаж (Заявка) (Заявка)                          float64\n",
       "Тип питания (Заявка) (Заявка)                              object\n",
       "Город Отеля (Заявка) (Заявка)                              object\n",
       "Город отправления (Заявка) (Заявка)                        object\n",
       "dtype: object"
      ]
     },
     "execution_count": 5,
     "metadata": {},
     "output_type": "execute_result"
    }
   ],
   "source": [
    "df.dtypes"
   ]
  },
  {
   "cell_type": "code",
   "execution_count": 6,
   "id": "precious-overall",
   "metadata": {
    "ExecuteTime": {
     "end_time": "2021-03-26T09:12:16.742147Z",
     "start_time": "2021-03-26T09:11:57.156801Z"
    }
   },
   "outputs": [
    {
     "data": {
      "application/vnd.jupyter.widget-view+json": {
       "model_id": "b6ddeefe274643bd830bbf1c375cf57e",
       "version_major": 2,
       "version_minor": 0
      },
      "text/plain": [
       "Summarize dataset:   0%|          | 0/38 [00:00<?, ?it/s]"
      ]
     },
     "metadata": {},
     "output_type": "display_data"
    },
    {
     "data": {
      "application/vnd.jupyter.widget-view+json": {
       "model_id": "37c83aca80c8404fa34e3e829ef7f3c1",
       "version_major": 2,
       "version_minor": 0
      },
      "text/plain": [
       "Generate report structure:   0%|          | 0/1 [00:00<?, ?it/s]"
      ]
     },
     "metadata": {},
     "output_type": "display_data"
    },
    {
     "data": {
      "application/vnd.jupyter.widget-view+json": {
       "model_id": "5108a4334d7e4ceca55dcc82ef5762cc",
       "version_major": 2,
       "version_minor": 0
      },
      "text/plain": [
       "Render HTML:   0%|          | 0/1 [00:00<?, ?it/s]"
      ]
     },
     "metadata": {},
     "output_type": "display_data"
    },
    {
     "data": {
      "application/vnd.jupyter.widget-view+json": {
       "model_id": "b91d28141327400690f219f202f57a51",
       "version_major": 2,
       "version_minor": 0
      },
      "text/plain": [
       "Export report to file:   0%|          | 0/1 [00:00<?, ?it/s]"
      ]
     },
     "metadata": {},
     "output_type": "display_data"
    }
   ],
   "source": [
    "# from pandas_profiling import ProfileReport\n",
    "\n",
    "# profile = ProfileReport(df, title=\"Задача 6. Profile report\")\n",
    "# profile.to_file(\"pandas-profile-data-sample.html\")"
   ]
  }
 ],
 "metadata": {
  "kernelspec": {
   "display_name": "Python 3",
   "language": "python",
   "name": "python3"
  },
  "language_info": {
   "codemirror_mode": {
    "name": "ipython",
    "version": 3
   },
   "file_extension": ".py",
   "mimetype": "text/x-python",
   "name": "python",
   "nbconvert_exporter": "python",
   "pygments_lexer": "ipython3",
   "version": "3.9.1"
  }
 },
 "nbformat": 4,
 "nbformat_minor": 5
}
